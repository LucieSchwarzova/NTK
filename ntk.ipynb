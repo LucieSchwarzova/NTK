 Volume in drive C is OS
 Volume Serial Number is 6AD3-3204

 Directory of C:\Users\lulus\Project NTK

23.11.2019  11:45    <DIR>          .
23.11.2019  11:45    <DIR>          ..
23.11.2019  11:45                 0 ntk.ipynb
               1 File(s)              0 bytes
               2 Dir(s)  110�242�504�704 bytes free
